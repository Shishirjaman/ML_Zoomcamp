{
 "cells": [
  {
   "cell_type": "code",
   "execution_count": 1,
   "id": "cb9f3ccd-a76a-408a-bf07-778838a2b61a",
   "metadata": {},
   "outputs": [],
   "source": [
    "import pandas as pd\n",
    "import numpy as np\n",
    "import matplotlib.pyplot as plt\n",
    "from sklearn.model_selection import train_test_split\n",
    "from sklearn.metrics import roc_auc_score\n",
    "from sklearn.feature_extraction import DictVectorizer\n",
    "from sklearn.linear_model import LogisticRegression\n",
    "from sklearn.metrics import precision_score, recall_score"
   ]
  },
  {
   "cell_type": "code",
   "execution_count": 6,
   "id": "92532000-3ea2-4923-94bf-14e524c54257",
   "metadata": {},
   "outputs": [],
   "source": [
    "df = pd.read_csv(\"course_lead_scoring.csv\")"
   ]
  },
  {
   "cell_type": "code",
   "execution_count": 7,
   "id": "557adf40-e671-4e8f-9a29-610b60a4d2a8",
   "metadata": {},
   "outputs": [
    {
     "data": {
      "text/html": [
       "<div>\n",
       "<style scoped>\n",
       "    .dataframe tbody tr th:only-of-type {\n",
       "        vertical-align: middle;\n",
       "    }\n",
       "\n",
       "    .dataframe tbody tr th {\n",
       "        vertical-align: top;\n",
       "    }\n",
       "\n",
       "    .dataframe thead th {\n",
       "        text-align: right;\n",
       "    }\n",
       "</style>\n",
       "<table border=\"1\" class=\"dataframe\">\n",
       "  <thead>\n",
       "    <tr style=\"text-align: right;\">\n",
       "      <th></th>\n",
       "      <th>lead_source</th>\n",
       "      <th>industry</th>\n",
       "      <th>number_of_courses_viewed</th>\n",
       "      <th>annual_income</th>\n",
       "      <th>employment_status</th>\n",
       "      <th>location</th>\n",
       "      <th>interaction_count</th>\n",
       "      <th>lead_score</th>\n",
       "      <th>converted</th>\n",
       "    </tr>\n",
       "  </thead>\n",
       "  <tbody>\n",
       "    <tr>\n",
       "      <th>0</th>\n",
       "      <td>paid_ads</td>\n",
       "      <td>NaN</td>\n",
       "      <td>1</td>\n",
       "      <td>79450.0</td>\n",
       "      <td>unemployed</td>\n",
       "      <td>south_america</td>\n",
       "      <td>4</td>\n",
       "      <td>0.94</td>\n",
       "      <td>1</td>\n",
       "    </tr>\n",
       "    <tr>\n",
       "      <th>1</th>\n",
       "      <td>social_media</td>\n",
       "      <td>retail</td>\n",
       "      <td>1</td>\n",
       "      <td>46992.0</td>\n",
       "      <td>employed</td>\n",
       "      <td>south_america</td>\n",
       "      <td>1</td>\n",
       "      <td>0.80</td>\n",
       "      <td>0</td>\n",
       "    </tr>\n",
       "    <tr>\n",
       "      <th>2</th>\n",
       "      <td>events</td>\n",
       "      <td>healthcare</td>\n",
       "      <td>5</td>\n",
       "      <td>78796.0</td>\n",
       "      <td>unemployed</td>\n",
       "      <td>australia</td>\n",
       "      <td>3</td>\n",
       "      <td>0.69</td>\n",
       "      <td>1</td>\n",
       "    </tr>\n",
       "    <tr>\n",
       "      <th>3</th>\n",
       "      <td>paid_ads</td>\n",
       "      <td>retail</td>\n",
       "      <td>2</td>\n",
       "      <td>83843.0</td>\n",
       "      <td>NaN</td>\n",
       "      <td>australia</td>\n",
       "      <td>1</td>\n",
       "      <td>0.87</td>\n",
       "      <td>0</td>\n",
       "    </tr>\n",
       "    <tr>\n",
       "      <th>4</th>\n",
       "      <td>referral</td>\n",
       "      <td>education</td>\n",
       "      <td>3</td>\n",
       "      <td>85012.0</td>\n",
       "      <td>self_employed</td>\n",
       "      <td>europe</td>\n",
       "      <td>3</td>\n",
       "      <td>0.62</td>\n",
       "      <td>1</td>\n",
       "    </tr>\n",
       "  </tbody>\n",
       "</table>\n",
       "</div>"
      ],
      "text/plain": [
       "    lead_source    industry  number_of_courses_viewed  annual_income  \\\n",
       "0      paid_ads         NaN                         1        79450.0   \n",
       "1  social_media      retail                         1        46992.0   \n",
       "2        events  healthcare                         5        78796.0   \n",
       "3      paid_ads      retail                         2        83843.0   \n",
       "4      referral   education                         3        85012.0   \n",
       "\n",
       "  employment_status       location  interaction_count  lead_score  converted  \n",
       "0        unemployed  south_america                  4        0.94          1  \n",
       "1          employed  south_america                  1        0.80          0  \n",
       "2        unemployed      australia                  3        0.69          1  \n",
       "3               NaN      australia                  1        0.87          0  \n",
       "4     self_employed         europe                  3        0.62          1  "
      ]
     },
     "execution_count": 7,
     "metadata": {},
     "output_type": "execute_result"
    }
   ],
   "source": [
    "df.head()"
   ]
  },
  {
   "cell_type": "code",
   "execution_count": 8,
   "id": "47fc6149-7d96-42b5-8433-74c5ee87dda2",
   "metadata": {},
   "outputs": [
    {
     "name": "stdout",
     "output_type": "stream",
     "text": [
      "lead_source                 128\n",
      "industry                    134\n",
      "number_of_courses_viewed      0\n",
      "annual_income               181\n",
      "employment_status           100\n",
      "location                     63\n",
      "interaction_count             0\n",
      "lead_score                    0\n",
      "converted                     0\n",
      "dtype: int64\n"
     ]
    }
   ],
   "source": [
    "# Check for missing values\n",
    "missing = df.isnull().sum()\n",
    "print(missing)"
   ]
  },
  {
   "cell_type": "code",
   "execution_count": 9,
   "id": "9eb6d394-57c0-43a0-9d00-61791e7a1458",
   "metadata": {},
   "outputs": [],
   "source": [
    "# Identify categorical and numerical columns (excluding target)\n",
    "target_col = 'converted'\n",
    "cat_cols = df.select_dtypes(include='object').columns.drop(target_col, errors='ignore')\n",
    "num_cols = df.select_dtypes(include='number').columns.drop(target_col, errors='ignore')\n",
    "\n",
    "# Fill missing values\n",
    "df[cat_cols] = df[cat_cols].fillna('NA')\n",
    "df[num_cols] = df[num_cols].fillna(0.0)"
   ]
  },
  {
   "cell_type": "code",
   "execution_count": 10,
   "id": "de4b2bd8-a657-4160-8eac-58055c5a20f6",
   "metadata": {},
   "outputs": [
    {
     "name": "stdout",
     "output_type": "stream",
     "text": [
      "Train shape: (876, 9)\n",
      "Validation shape: (293, 9)\n",
      "Test shape: (293, 9)\n"
     ]
    }
   ],
   "source": [
    "# Split into train/validation/test (60/20/20)\n",
    "df_full = df.copy()\n",
    "df_temp, df_test = train_test_split(df_full, test_size=0.2, random_state=1)\n",
    "df_train, df_val = train_test_split(df_temp, test_size=0.25, random_state=1) # 0.25 x 0.8 = 0.20\n",
    "\n",
    "print('Train shape:', df_train.shape)\n",
    "print('Validation shape:', df_val.shape)\n",
    "print('Test shape:', df_test.shape)"
   ]
  },
  {
   "cell_type": "code",
   "execution_count": 11,
   "id": "663ea6c2-cca4-4f36-a4a1-4b6205f6e61f",
   "metadata": {},
   "outputs": [
    {
     "name": "stdout",
     "output_type": "stream",
     "text": [
      "number_of_courses_viewed: AUC=0.7636\n",
      "interaction_count: AUC=0.7383\n",
      "lead_score: AUC=0.6145\n",
      "annual_income: AUC=0.5520\n"
     ]
    }
   ],
   "source": [
    "from sklearn.metrics import roc_auc_score\n",
    "\n",
    "num_vars = [\"lead_score\", \"number_of_courses_viewed\", \"interaction_count\", \"annual_income\"]\n",
    "target = \"converted\"\n",
    "aucs = {}\n",
    "\n",
    "for var in num_vars:\n",
    "    pred = df_train[var].values\n",
    "    y = df_train[target].values\n",
    "    auc = roc_auc_score(y, pred)\n",
    "    if auc < 0.5:\n",
    "        auc = roc_auc_score(y, -pred)\n",
    "    aucs[var] = auc\n",
    "\n",
    "for var, auc in sorted(aucs.items(), key=lambda x: x[1], reverse=True):\n",
    "    print(f\"{var}: AUC={auc:.4f}\")"
   ]
  },
  {
   "cell_type": "code",
   "execution_count": 13,
   "id": "678a6d7b-cdfe-4d14-a734-0ac69a42ea5e",
   "metadata": {},
   "outputs": [
    {
     "name": "stdout",
     "output_type": "stream",
     "text": [
      "Validation ROC AUC: 0.817\n"
     ]
    }
   ],
   "source": [
    "from sklearn.feature_extraction import DictVectorizer\n",
    "from sklearn.linear_model import LogisticRegression\n",
    "\n",
    "feature_cols = [col for col in df_train.columns if col != 'converted']\n",
    "X_train = df_train[feature_cols].to_dict(orient='records')\n",
    "X_val = df_val[feature_cols].to_dict(orient='records')\n",
    "y_train = df_train['converted'].values\n",
    "y_val = df_val['converted'].values\n",
    "\n",
    "dv = DictVectorizer(sparse=False)\n",
    "X_train_enc = dv.fit_transform(X_train)\n",
    "X_val_enc = dv.transform(X_val)\n",
    "\n",
    "model = LogisticRegression(solver='liblinear', C=1.0, max_iter=1000)\n",
    "model.fit(X_train_enc, y_train)\n",
    "\n",
    "val_pred = model.predict_proba(X_val_enc)[:, 1]\n",
    "\n",
    "from sklearn.metrics import roc_auc_score\n",
    "val_auc = roc_auc_score(y_val, val_pred)\n",
    "print(f'Validation ROC AUC: {val_auc:.3f}')"
   ]
  },
  {
   "cell_type": "code",
   "execution_count": 14,
   "id": "06cb766c-c47b-4815-83b7-29fb87d17e19",
   "metadata": {},
   "outputs": [
    {
     "data": {
      "image/png": "[encoded data removed]",
      "text/plain": [
       "<Figure size 640x480 with 1 Axes>"
      ]
     },
     "metadata": {},
     "output_type": "display_data"
    },
    {
     "name": "stdout",
     "output_type": "stream",
     "text": [
      "Precision and recall curves intersect at threshold: 0.980\n"
     ]
    }
   ],
   "source": [
    "import numpy as np\n",
    "import matplotlib.pyplot as plt\n",
    "from sklearn.metrics import precision_score, recall_score\n",
    "\n",
    "thresholds = np.arange(0.0, 1.01, 0.01)\n",
    "precisions = []\n",
    "recalls = []\n",
    "\n",
    "for t in thresholds:\n",
    "    preds_bin = (val_pred >= t).astype(int)\n",
    "    precisions.append(precision_score(y_val, preds_bin, zero_division=0))\n",
    "    recalls.append(recall_score(y_val, preds_bin, zero_division=0))\n",
    "\n",
    "plt.plot(thresholds, precisions, label='Precision')\n",
    "plt.plot(thresholds, recalls, label='Recall')\n",
    "plt.xlabel('Threshold')\n",
    "plt.ylabel('Score')\n",
    "plt.legend()\n",
    "plt.show()\n",
    "\n",
    "precision_recall_diffs = np.abs(np.array(precisions) - np.array(recalls))\n",
    "intersect_idx = np.argmin(precision_recall_diffs)\n",
    "intersect_threshold = thresholds[intersect_idx]\n",
    "print(f'Precision and recall curves intersect at threshold: {intersect_threshold:.3f}')"
   ]
  },
  {
   "cell_type": "code",
   "execution_count": 15,
   "id": "a5990592-0dfe-4519-bcdb-6fd11b6cda3e",
   "metadata": {},
   "outputs": [
    {
     "data": {
      "image/png": "[encoded data removed]",
      "text/plain": [
       "<Figure size 640x480 with 1 Axes>"
      ]
     },
     "metadata": {},
     "output_type": "display_data"
    },
    {
     "name": "stdout",
     "output_type": "stream",
     "text": [
      "F1 score is maximal at threshold: 0.57\n"
     ]
    }
   ],
   "source": [
    "f1_scores = []\n",
    "for p, r in zip(precisions, recalls):\n",
    "    f1 = 0 if (p+r)==0 else 2 * p * r / (p + r)\n",
    "    f1_scores.append(f1)\n",
    "\n",
    "plt.plot(thresholds, f1_scores, label='F1 Score')\n",
    "plt.xlabel('Threshold')\n",
    "plt.ylabel('F1')\n",
    "plt.legend()\n",
    "plt.show()\n",
    "\n",
    "max_f1_idx = np.argmax(f1_scores)\n",
    "max_f1_threshold = thresholds[max_f1_idx]\n",
    "print(f'F1 score is maximal at threshold: {max_f1_threshold:.2f}')"
   ]
  },
  {
   "cell_type": "code",
   "execution_count": 16,
   "id": "011483a7-80cb-44d0-a32f-72d0adddeb3b",
   "metadata": {},
   "outputs": [
    {
     "name": "stdout",
     "output_type": "stream",
     "text": [
      "Mean AUC: 0.821 | Std: 0.029\n"
     ]
    }
   ],
   "source": [
    "from sklearn.model_selection import KFold\n",
    "\n",
    "df_full_train = df_full.copy()  # Use full train (train+val, not test here)\n",
    "kfold = KFold(n_splits=5, shuffle=True, random_state=1)\n",
    "scores = []\n",
    "\n",
    "for train_idx, val_idx in kfold.split(df_full_train):\n",
    "    df_train_cv = df_full_train.iloc[train_idx]\n",
    "    df_val_cv = df_full_train.iloc[val_idx]\n",
    "\n",
    "    X_train_cv = df_train_cv[feature_cols].to_dict(orient='records')\n",
    "    X_val_cv = df_val_cv[feature_cols].to_dict(orient='records')\n",
    "    y_train_cv = df_train_cv['converted'].values\n",
    "    y_val_cv = df_val_cv['converted'].values\n",
    "\n",
    "    dv_cv = DictVectorizer(sparse=False)\n",
    "    X_train_cv_enc = dv_cv.fit_transform(X_train_cv)\n",
    "    X_val_cv_enc = dv_cv.transform(X_val_cv)\n",
    "\n",
    "    model_cv = LogisticRegression(solver='liblinear', C=1.0, max_iter=1000)\n",
    "    model_cv.fit(X_train_cv_enc, y_train_cv)\n",
    "\n",
    "    val_pred_cv = model_cv.predict_proba(X_val_cv_enc)[:, 1]\n",
    "    roc_auc_cv = roc_auc_score(y_val_cv, val_pred_cv)\n",
    "    scores.append(roc_auc_cv)\n",
    "\n",
    "mean_score = np.mean(scores)\n",
    "std_score = np.std(scores)\n",
    "print(f\"Mean AUC: {mean_score:.3f} | Std: {std_score:.3f}\")"
   ]
  },
  {
   "cell_type": "code",
   "execution_count": 17,
   "id": "492ed0b7-c7ff-48f0-956f-c24eb973ff35",
   "metadata": {},
   "outputs": [
    {
     "name": "stdout",
     "output_type": "stream",
     "text": [
      "C=1e-06 | Mean AUC: 0.549 | Std: 0.030\n",
      "C=0.001 | Mean AUC: 0.862 | Std: 0.024\n",
      "C=1 | Mean AUC: 0.821 | Std: 0.029\n"
     ]
    }
   ],
   "source": [
    "C_list = [0.000001, 0.001, 1]\n",
    "cv_results = {}\n",
    "\n",
    "for C in C_list:\n",
    "    scores = []\n",
    "    kfold = KFold(n_splits=5, shuffle=True, random_state=1)\n",
    "    for train_idx, val_idx in kfold.split(df_full_train):\n",
    "        df_train_cv = df_full_train.iloc[train_idx]\n",
    "        df_val_cv = df_full_train.iloc[val_idx]\n",
    "\n",
    "        X_train_cv = df_train_cv[feature_cols].to_dict(orient='records')\n",
    "        X_val_cv = df_val_cv[feature_cols].to_dict(orient='records')\n",
    "        y_train_cv = df_train_cv['converted'].values\n",
    "        y_val_cv = df_val_cv['converted'].values\n",
    "\n",
    "        dv_cv = DictVectorizer(sparse=False)\n",
    "        X_train_cv_enc = dv_cv.fit_transform(X_train_cv)\n",
    "        X_val_cv_enc = dv_cv.transform(X_val_cv)\n",
    "\n",
    "        model_cv = LogisticRegression(solver='liblinear', C=C, max_iter=1000)\n",
    "        model_cv.fit(X_train_cv_enc, y_train_cv)\n",
    "        val_pred_cv = model_cv.predict_proba(X_val_cv_enc)[:, 1]\n",
    "        roc_auc_cv = roc_auc_score(y_val_cv, val_pred_cv)\n",
    "        scores.append(roc_auc_cv)\n",
    "\n",
    "    mean_score = np.mean(scores)\n",
    "    std_score = np.std(scores)\n",
    "    cv_results[C] = (mean_score, std_score)\n",
    "    print(f\"C={C} | Mean AUC: {mean_score:.3f} | Std: {std_score:.3f}\")"
   ]
  },
  {
   "cell_type": "code",
   "execution_count": null,
   "id": "7e9c804c-36e0-4747-9c41-d03b6c86ba22",
   "metadata": {},
   "outputs": [],
   "source": []
  }
 ],
 "metadata": {
  "kernelspec": {
   "display_name": "Python 3 (ipykernel)",
   "language": "python",
   "name": "python3"
  },
  "language_info": {
   "codemirror_mode": {
    "name": "ipython",
    "version": 3
   },
   "file_extension": ".py",
   "mimetype": "text/x-python",
   "name": "python",
   "nbconvert_exporter": "python",
   "pygments_lexer": "ipython3",
   "version": "3.12.4"
  }
 },
 "nbformat": 4,
 "nbformat_minor": 5
}
