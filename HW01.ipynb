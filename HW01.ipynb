{
 "cells": [
  {
   "cell_type": "code",
   "execution_count": 1,
   "id": "b62e08cf-09a8-4c2d-90cf-1d27858319e6",
   "metadata": {},
   "outputs": [],
   "source": [
    "import numpy as np\n",
    "import pandas as pd\n",
    "import matplotlib.pyplot as plt\n",
    "import seaborn as sns"
   ]
  },
  {
   "cell_type": "code",
   "execution_count": 2,
   "id": "39009d9a-ef4d-4235-b45a-c609a8434fed",
   "metadata": {},
   "outputs": [
    {
     "data": {
      "text/plain": [
       "'2.2.2'"
      ]
     },
     "execution_count": 2,
     "metadata": {},
     "output_type": "execute_result"
    }
   ],
   "source": [
    "pd.__version__"
   ]
  },
  {
   "cell_type": "code",
   "execution_count": 3,
   "id": "2e4c9d09-b13d-4a81-aae7-84670394a776",
   "metadata": {},
   "outputs": [],
   "source": [
    "data = pd.read_csv(\"car_fuel_efficiency.csv\")"
   ]
  },
  {
   "cell_type": "code",
   "execution_count": 4,
   "id": "2762d951-09ec-4a02-be35-ebee7a2f6699",
   "metadata": {},
   "outputs": [
    {
     "data": {
      "text/html": [
       "<div>\n",
       "<style scoped>\n",
       "    .dataframe tbody tr th:only-of-type {\n",
       "        vertical-align: middle;\n",
       "    }\n",
       "\n",
       "    .dataframe tbody tr th {\n",
       "        vertical-align: top;\n",
       "    }\n",
       "\n",
       "    .dataframe thead th {\n",
       "        text-align: right;\n",
       "    }\n",
       "</style>\n",
       "<table border=\"1\" class=\"dataframe\">\n",
       "  <thead>\n",
       "    <tr style=\"text-align: right;\">\n",
       "      <th></th>\n",
       "      <th>engine_displacement</th>\n",
       "      <th>num_cylinders</th>\n",
       "      <th>horsepower</th>\n",
       "      <th>vehicle_weight</th>\n",
       "      <th>acceleration</th>\n",
       "      <th>model_year</th>\n",
       "      <th>origin</th>\n",
       "      <th>fuel_type</th>\n",
       "      <th>drivetrain</th>\n",
       "      <th>num_doors</th>\n",
       "      <th>fuel_efficiency_mpg</th>\n",
       "    </tr>\n",
       "  </thead>\n",
       "  <tbody>\n",
       "    <tr>\n",
       "      <th>0</th>\n",
       "      <td>170</td>\n",
       "      <td>3.0</td>\n",
       "      <td>159.0</td>\n",
       "      <td>3413.433759</td>\n",
       "      <td>17.7</td>\n",
       "      <td>2003</td>\n",
       "      <td>Europe</td>\n",
       "      <td>Gasoline</td>\n",
       "      <td>All-wheel drive</td>\n",
       "      <td>0.0</td>\n",
       "      <td>13.231729</td>\n",
       "    </tr>\n",
       "    <tr>\n",
       "      <th>1</th>\n",
       "      <td>130</td>\n",
       "      <td>5.0</td>\n",
       "      <td>97.0</td>\n",
       "      <td>3149.664934</td>\n",
       "      <td>17.8</td>\n",
       "      <td>2007</td>\n",
       "      <td>USA</td>\n",
       "      <td>Gasoline</td>\n",
       "      <td>Front-wheel drive</td>\n",
       "      <td>0.0</td>\n",
       "      <td>13.688217</td>\n",
       "    </tr>\n",
       "    <tr>\n",
       "      <th>2</th>\n",
       "      <td>170</td>\n",
       "      <td>NaN</td>\n",
       "      <td>78.0</td>\n",
       "      <td>3079.038997</td>\n",
       "      <td>15.1</td>\n",
       "      <td>2018</td>\n",
       "      <td>Europe</td>\n",
       "      <td>Gasoline</td>\n",
       "      <td>Front-wheel drive</td>\n",
       "      <td>0.0</td>\n",
       "      <td>14.246341</td>\n",
       "    </tr>\n",
       "    <tr>\n",
       "      <th>3</th>\n",
       "      <td>220</td>\n",
       "      <td>4.0</td>\n",
       "      <td>NaN</td>\n",
       "      <td>2542.392402</td>\n",
       "      <td>20.2</td>\n",
       "      <td>2009</td>\n",
       "      <td>USA</td>\n",
       "      <td>Diesel</td>\n",
       "      <td>All-wheel drive</td>\n",
       "      <td>2.0</td>\n",
       "      <td>16.912736</td>\n",
       "    </tr>\n",
       "    <tr>\n",
       "      <th>4</th>\n",
       "      <td>210</td>\n",
       "      <td>1.0</td>\n",
       "      <td>140.0</td>\n",
       "      <td>3460.870990</td>\n",
       "      <td>14.4</td>\n",
       "      <td>2009</td>\n",
       "      <td>Europe</td>\n",
       "      <td>Gasoline</td>\n",
       "      <td>All-wheel drive</td>\n",
       "      <td>2.0</td>\n",
       "      <td>12.488369</td>\n",
       "    </tr>\n",
       "  </tbody>\n",
       "</table>\n",
       "</div>"
      ],
      "text/plain": [
       "   engine_displacement  num_cylinders  horsepower  vehicle_weight  \\\n",
       "0                  170            3.0       159.0     3413.433759   \n",
       "1                  130            5.0        97.0     3149.664934   \n",
       "2                  170            NaN        78.0     3079.038997   \n",
       "3                  220            4.0         NaN     2542.392402   \n",
       "4                  210            1.0       140.0     3460.870990   \n",
       "\n",
       "   acceleration  model_year  origin fuel_type         drivetrain  num_doors  \\\n",
       "0          17.7        2003  Europe  Gasoline    All-wheel drive        0.0   \n",
       "1          17.8        2007     USA  Gasoline  Front-wheel drive        0.0   \n",
       "2          15.1        2018  Europe  Gasoline  Front-wheel drive        0.0   \n",
       "3          20.2        2009     USA    Diesel    All-wheel drive        2.0   \n",
       "4          14.4        2009  Europe  Gasoline    All-wheel drive        2.0   \n",
       "\n",
       "   fuel_efficiency_mpg  \n",
       "0            13.231729  \n",
       "1            13.688217  \n",
       "2            14.246341  \n",
       "3            16.912736  \n",
       "4            12.488369  "
      ]
     },
     "execution_count": 4,
     "metadata": {},
     "output_type": "execute_result"
    }
   ],
   "source": [
    "data.head()"
   ]
  },
  {
   "cell_type": "code",
   "execution_count": 5,
   "id": "13b3e3a6-e361-4ae8-8f0b-a9f1ac6a5672",
   "metadata": {},
   "outputs": [
    {
     "data": {
      "text/plain": [
       "(9704, 11)"
      ]
     },
     "execution_count": 5,
     "metadata": {},
     "output_type": "execute_result"
    }
   ],
   "source": [
    "data.shape"
   ]
  },
  {
   "cell_type": "code",
   "execution_count": 6,
   "id": "b12affae-e9ef-46f2-bc20-6fb9f1038b0b",
   "metadata": {},
   "outputs": [
    {
     "data": {
      "text/plain": [
       "9704"
      ]
     },
     "execution_count": 6,
     "metadata": {},
     "output_type": "execute_result"
    }
   ],
   "source": [
    "num_records = data.shape[0]\n",
    "num_records"
   ]
  },
  {
   "cell_type": "code",
   "execution_count": 7,
   "id": "bce9cd2c-a00a-4f07-8255-c2c78896bdc0",
   "metadata": {},
   "outputs": [
    {
     "data": {
      "text/plain": [
       "2"
      ]
     },
     "execution_count": 7,
     "metadata": {},
     "output_type": "execute_result"
    }
   ],
   "source": [
    "num_fuel_types = data['fuel_type'].nunique()\n",
    "num_fuel_types"
   ]
  },
  {
   "cell_type": "code",
   "execution_count": 8,
   "id": "661fbc08-159b-4795-890e-2c9199cd12df",
   "metadata": {},
   "outputs": [
    {
     "data": {
      "text/plain": [
       "4"
      ]
     },
     "execution_count": 8,
     "metadata": {},
     "output_type": "execute_result"
    }
   ],
   "source": [
    "count_missing_columns = data.isnull().any().sum()\n",
    "count_missing_columns"
   ]
  },
  {
   "cell_type": "code",
   "execution_count": 9,
   "id": "f9f49acf-dd86-4151-9b61-b73306258cae",
   "metadata": {},
   "outputs": [
    {
     "data": {
      "text/plain": [
       "23.759122836520497"
      ]
     },
     "execution_count": 9,
     "metadata": {},
     "output_type": "execute_result"
    }
   ],
   "source": [
    "max_fuel_efficiency_asia = data.loc[data['origin'] == 'Asia', 'fuel_efficiency_mpg'].max()\n",
    "max_fuel_efficiency_asia"
   ]
  },
  {
   "cell_type": "code",
   "execution_count": 10,
   "id": "1ec98970-c061-468e-bed9-f71bf0e4f65b",
   "metadata": {},
   "outputs": [
    {
     "name": "stdout",
     "output_type": "stream",
     "text": [
      "Initial median: 149.0\n",
      "Most frequent horsepower: 152.0\n",
      "Median after filling missing values: 152.0\n",
      "Yes, it increased\n"
     ]
    }
   ],
   "source": [
    "# Initial median\n",
    "initial_median = data['horsepower'].median()\n",
    "print(\"Initial median:\", initial_median)\n",
    "\n",
    "# Most frequent (mode) horsepower value\n",
    "mode_hp = data['horsepower'].mode()[0]\n",
    "print(\"Most frequent horsepower:\", mode_hp)\n",
    "\n",
    "# Fill missing horsepower values with the mode\n",
    "data.fillna({'horsepower': mode_hp}, inplace=True)\n",
    "\n",
    "# Median after filling\n",
    "new_median = data['horsepower'].median()\n",
    "print(\"Median after filling missing values:\", new_median)\n",
    "\n",
    "# Compare medians\n",
    "if new_median > initial_median:\n",
    "    print(\"Yes, it increased\")\n",
    "elif new_median < initial_median:\n",
    "    print(\"Yes, it decreased\")\n",
    "else:\n",
    "    print(\"No\")"
   ]
  },
  {
   "cell_type": "code",
   "execution_count": 11,
   "id": "dcd28916-a95f-4d85-b8c6-a74b40554b8f",
   "metadata": {},
   "outputs": [
    {
     "data": {
      "text/plain": [
       "0.5187709081074007"
      ]
     },
     "execution_count": 11,
     "metadata": {},
     "output_type": "execute_result"
    }
   ],
   "source": [
    "# Select all cars from Asia\n",
    "asia_cars = data[data['origin'] == 'Asia']\n",
    "\n",
    "# Select only 'vehicle_weight' and 'model_year' columns\n",
    "asia_cars_selected = asia_cars[['vehicle_weight', 'model_year']]\n",
    "\n",
    "# Select the first 7 values\n",
    "asia_cars_first7 = asia_cars_selected.head(7)\n",
    "\n",
    "# Get the underlying NumPy array (X)\n",
    "X = asia_cars_first7.to_numpy()\n",
    "\n",
    "# Compute matrix-matrix multiplication between the transpose of X and X using np.dot()\n",
    "XTX = np.dot(X.T, X)\n",
    "\n",
    "# Invert XTX\n",
    "XTX_inv = np.linalg.inv(XTX)\n",
    "\n",
    "# Create an array y with values [1100, 1300, 800, 900, 1000, 1100, 1200]\n",
    "y = np.array([1100, 1300, 800, 900, 1000, 1100, 1200])\n",
    "\n",
    "# Multiply the inverse of XTX with the transpose of X, then multiply the result by y using np.dot()\n",
    "w = np.dot(np.dot(XTX_inv, X.T), y)\n",
    "\n",
    "# the sum of all the elements of the result.\n",
    "sum_w = w.sum()\n",
    "sum_w"
   ]
  },
  {
   "cell_type": "code",
   "execution_count": null,
   "id": "3842b498-e0f3-4193-8c24-ee0df5714e32",
   "metadata": {},
   "outputs": [],
   "source": []
  }
 ],
 "metadata": {
  "kernelspec": {
   "display_name": "Python 3 (ipykernel)",
   "language": "python",
   "name": "python3"
  },
  "language_info": {
   "codemirror_mode": {
    "name": "ipython",
    "version": 3
   },
   "file_extension": ".py",
   "mimetype": "text/x-python",
   "name": "python",
   "nbconvert_exporter": "python",
   "pygments_lexer": "ipython3",
   "version": "3.12.4"
  }
 },
 "nbformat": 4,
 "nbformat_minor": 5
}
